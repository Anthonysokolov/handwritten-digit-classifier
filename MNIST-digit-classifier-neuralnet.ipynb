{
 "cells": [
  {
   "cell_type": "markdown",
   "metadata": {},
   "source": [
    "# Classifying Handwritten Digits Using A Neural Network\n",
    "## Dataset: MNIST Handwritten Digits via Kaggle"
   ]
  },
  {
   "cell_type": "code",
   "execution_count": 91,
   "metadata": {},
   "outputs": [],
   "source": [
    "# Import required libraries\n",
    "import pandas as pd\n",
    "import numpy as np"
   ]
  },
  {
   "cell_type": "markdown",
   "metadata": {},
   "source": [
    "### Import and clean data"
   ]
  },
  {
   "cell_type": "code",
   "execution_count": 92,
   "metadata": {},
   "outputs": [],
   "source": [
    "data = pd.read_csv('train.csv')"
   ]
  },
  {
   "cell_type": "code",
   "execution_count": 93,
   "metadata": {},
   "outputs": [],
   "source": [
    "# Split data into train and test sets\n",
    "data = data.reindex(np.random.permutation(data.index))\n",
    "split = int(data.shape[0]*.75)\n",
    "train_data = data.iloc[:split]\n",
    "test_data = data.iloc[split:]"
   ]
  },
  {
   "cell_type": "code",
   "execution_count": 94,
   "metadata": {},
   "outputs": [],
   "source": [
    "# Format the data into a list of tuples (x,y) where x is the input and y is the desired output\n",
    "def format_data(df):\n",
    "    out = []\n",
    "    for i in range(len(df)):\n",
    "        arr = np.asarray([df.iloc[i,1:]]).T\n",
    "        val = np.zeros(10)\n",
    "        val[df.iloc[i,0]] = 1\n",
    "        val = np.reshape(val,(10,1))\n",
    "        out.append((arr,val))\n",
    "    return out"
   ]
  },
  {
   "cell_type": "code",
   "execution_count": 95,
   "metadata": {},
   "outputs": [],
   "source": [
    "# Format the train and test sets\n",
    "train = format_data(train_data)\n",
    "test = format_data(test_data)"
   ]
  },
  {
   "cell_type": "markdown",
   "metadata": {},
   "source": [
    "### Construct model"
   ]
  },
  {
   "cell_type": "code",
   "execution_count": 96,
   "metadata": {},
   "outputs": [],
   "source": [
    "class Net(object):\n",
    "    def __init__(self,sizes):\n",
    "        # Initialize random weights and biases based on the given layer sizes\n",
    "        self.n_layers = len(sizes)\n",
    "        self.weights = [np.random.randn(r,c) for r,c in zip(sizes[1:],sizes[:-1])]\n",
    "        self.biases = [np.random.randn(r,1) for r in sizes[1:]]\n",
    "    \n",
    "    def sigmoid(self,x):\n",
    "        # Nonlinear activation function\n",
    "        return 1/(1+np.exp(-x))\n",
    "    \n",
    "    def sigmoid_deriv(self,x):\n",
    "        # Derivative of the nonlinear activation function\n",
    "        return self.sigmoid(x) * (1-self.sigmoid(x))\n",
    "    \n",
    "    def forward(self,a):\n",
    "        # Forward propagation through the network\n",
    "        for w,b in zip(self.weights,self.biases):\n",
    "            a = self.sigmoid(np.dot(w,a) + b)\n",
    "        return a\n",
    "    \n",
    "    def train(self,data,epochs,alpha):\n",
    "        # Trains the network\n",
    "        for e in range(epochs):\n",
    "            # Loop through every pair of inputs and outputs once per epoch\n",
    "            for x,y in data:\n",
    "                a = x\n",
    "                zs = []\n",
    "                activations = [a]\n",
    "                \n",
    "                # Feedforward\n",
    "                for w,b in zip(self.weights,self.biases):\n",
    "                    # Store z vector\n",
    "                    z = np.dot(w,a)+b\n",
    "                    zs.append(z)\n",
    "                    \n",
    "                    # Store activation vector\n",
    "                    a = self.sigmoid(z)\n",
    "                    activations.append(a)\n",
    "                               \n",
    "                # Find derivatives of the weights and biases of the last layer\n",
    "                dz = activations[-1] - y\n",
    "                dw = np.dot(dz,activations[-2].T)\n",
    "                \n",
    "                # Update weights and biases of last layer\n",
    "                self.weights[-1] -= alpha*dw\n",
    "                self.biases[-1] -= alpha*dz\n",
    "                \n",
    "                # Update weights and biases of previous layers\n",
    "                for i in range(2,len(zs)+1):\n",
    "                    dz = np.dot(self.weights[-i+1].T,dz)*self.sigmoid_deriv(zs[-i])\n",
    "                    dw = np.dot(dz,activations[-i-1].T)\n",
    "                    \n",
    "                    self.weights[-i] -= alpha*dw\n",
    "                    self.biases[-i] -= alpha*dz\n",
    "                \n",
    "            print('Epoch',e+1)\n",
    "            print('Accuracy:',self.accuracy(data))\n",
    "                    \n",
    "    def cost(self,data):\n",
    "        # Find the cost of the network\n",
    "        cost = np.zeros(data[0][1].shape)\n",
    "        for x,y in data:\n",
    "            ypred = self.forward(x)\n",
    "            cost += (ypred-y)**2\n",
    "        return np.sum(cost)/len(data)\n",
    "    \n",
    "    def accuracy(self,data):\n",
    "        # Find the percentage of correctly classified outputs\n",
    "        count = 0\n",
    "        for x,y in data:\n",
    "            if np.argmax(self.forward(x)) == np.argmax(y):\n",
    "                count += 1\n",
    "                \n",
    "        return count/len(data)"
   ]
  },
  {
   "cell_type": "code",
   "execution_count": 97,
   "metadata": {},
   "outputs": [],
   "source": [
    "n = Net([784,300,10])"
   ]
  },
  {
   "cell_type": "markdown",
   "metadata": {},
   "source": [
    "### Train model"
   ]
  },
  {
   "cell_type": "code",
   "execution_count": 98,
   "metadata": {},
   "outputs": [
    {
     "name": "stdout",
     "output_type": "stream",
     "text": [
      "Epoch 1\n",
      "Accuracy: 0.6543174603174603\n",
      "Epoch 2\n",
      "Accuracy: 0.741015873015873\n",
      "Epoch 3\n",
      "Accuracy: 0.7740317460317461\n",
      "Epoch 4\n",
      "Accuracy: 0.7913015873015873\n",
      "Epoch 5\n",
      "Accuracy: 0.8141269841269841\n",
      "Epoch 6\n",
      "Accuracy: 0.823015873015873\n",
      "Epoch 7\n",
      "Accuracy: 0.8301904761904761\n",
      "Epoch 8\n",
      "Accuracy: 0.8408571428571429\n",
      "Epoch 9\n",
      "Accuracy: 0.8522539682539683\n",
      "Epoch 10\n",
      "Accuracy: 0.8564761904761905\n",
      "Epoch 11\n",
      "Accuracy: 0.8561587301587301\n",
      "Epoch 12\n",
      "Accuracy: 0.8635555555555555\n",
      "Epoch 13\n",
      "Accuracy: 0.8644126984126984\n",
      "Epoch 14\n",
      "Accuracy: 0.870984126984127\n",
      "Epoch 15\n",
      "Accuracy: 0.8726031746031746\n",
      "Epoch 16\n",
      "Accuracy: 0.8739047619047619\n",
      "Epoch 17\n",
      "Accuracy: 0.8790793650793651\n",
      "Epoch 18\n",
      "Accuracy: 0.8828571428571429\n",
      "Epoch 19\n",
      "Accuracy: 0.8808253968253968\n",
      "Epoch 20\n",
      "Accuracy: 0.8828888888888888\n",
      "Epoch 21\n",
      "Accuracy: 0.8845079365079365\n",
      "Epoch 22\n",
      "Accuracy: 0.8854603174603175\n",
      "Epoch 23\n",
      "Accuracy: 0.8890476190476191\n",
      "Epoch 24\n",
      "Accuracy: 0.893079365079365\n",
      "Epoch 25\n",
      "Accuracy: 0.8934603174603175\n",
      "Epoch 26\n",
      "Accuracy: 0.892\n",
      "Epoch 27\n",
      "Accuracy: 0.8950476190476191\n",
      "Epoch 28\n",
      "Accuracy: 0.8947301587301587\n",
      "Epoch 29\n",
      "Accuracy: 0.8973650793650794\n",
      "Epoch 30\n",
      "Accuracy: 0.9006984126984127\n"
     ]
    }
   ],
   "source": [
    "n.train(train,30,0.001)"
   ]
  },
  {
   "cell_type": "markdown",
   "metadata": {},
   "source": [
    "### Evaluate model performance"
   ]
  },
  {
   "cell_type": "code",
   "execution_count": 99,
   "metadata": {},
   "outputs": [
    {
     "name": "stdout",
     "output_type": "stream",
     "text": [
      "Training Set\n",
      "Cost: 0.185380395753\n",
      "Accuracy: 0.9006984126984127\n"
     ]
    }
   ],
   "source": [
    "# Find training set metrics\n",
    "print('Training Set')\n",
    "print('Cost:',n.cost(train))\n",
    "print('Accuracy:',n.accuracy(train))"
   ]
  },
  {
   "cell_type": "code",
   "execution_count": 100,
   "metadata": {},
   "outputs": [
    {
     "name": "stdout",
     "output_type": "stream",
     "text": [
      "Test Set\n",
      "Cost: 0.193956183987\n",
      "Accuracy: 0.8961904761904762\n"
     ]
    }
   ],
   "source": [
    "# Find test set metrics\n",
    "print('Test Set')\n",
    "print('Cost:',n.cost(test))\n",
    "print('Accuracy:',n.accuracy(test))"
   ]
  },
  {
   "cell_type": "markdown",
   "metadata": {},
   "source": [
    "The model performs similarly on the training and test sets, showing that the model is not overfitting to the training set"
   ]
  },
  {
   "cell_type": "markdown",
   "metadata": {},
   "source": [
    "### Make predictions on unseen data"
   ]
  },
  {
   "cell_type": "code",
   "execution_count": 101,
   "metadata": {},
   "outputs": [],
   "source": [
    "pred_data = pd.read_csv('test.csv')"
   ]
  },
  {
   "cell_type": "code",
   "execution_count": 102,
   "metadata": {},
   "outputs": [],
   "source": [
    "def predict(data,model):\n",
    "    out = pd.DataFrame()\n",
    "    ids = []\n",
    "    labels = []\n",
    "    for i in range(len(data)):\n",
    "        x = np.asarray([data.iloc[i,:]]).T\n",
    "        y = np.argmax(model.forward(x))\n",
    "        labels.append(y)\n",
    "        ids.append(i+1)\n",
    "        \n",
    "    out['ImageId'] = pd.Series(ids)   \n",
    "    out['Label'] = pd.Series(labels)\n",
    "    out.set_index('ImageId',inplace = True)\n",
    "        \n",
    "    return out"
   ]
  },
  {
   "cell_type": "code",
   "execution_count": 103,
   "metadata": {},
   "outputs": [],
   "source": [
    "predictions = predict(pred_data,n)"
   ]
  },
  {
   "cell_type": "code",
   "execution_count": 104,
   "metadata": {},
   "outputs": [],
   "source": [
    "predictions.to_csv('predictions.csv')"
   ]
  }
 ],
 "metadata": {
  "kernelspec": {
   "display_name": "Python 3",
   "language": "python",
   "name": "python3"
  },
  "language_info": {
   "codemirror_mode": {
    "name": "ipython",
    "version": 3
   },
   "file_extension": ".py",
   "mimetype": "text/x-python",
   "name": "python",
   "nbconvert_exporter": "python",
   "pygments_lexer": "ipython3",
   "version": "3.6.5"
  }
 },
 "nbformat": 4,
 "nbformat_minor": 2
}
